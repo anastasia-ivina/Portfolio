{
  "nbformat": 4,
  "nbformat_minor": 0,
  "metadata": {
    "colab": {
      "provenance": []
    },
    "kernelspec": {
      "name": "python3",
      "display_name": "Python 3"
    },
    "language_info": {
      "name": "python"
    }
  },
  "cells": [
    {
      "cell_type": "markdown",
      "source": [
        "# **ЗАДАНИЕ:**\n",
        "1. Создайте таблицу movies с полями movies_type, director, year_of_issue, length_in_minutes, rate.\n",
        "\n",
        "2. Сделайте таблицы для горизонтального партицирования по году выпуска (до 1990, 1990 -2000, 2000- 2010, 2010-2020, после 2020).\n",
        "\n",
        "3. Сделайте таблицы для горизонтального партицирования по длине фильма (до 40 минута, от 40 до 90 минут, от 90 до 130 минут, более 130 минут).\n",
        "\n",
        "4. Сделайте таблицы для горизонтального партицирования по рейтингу фильма (ниже 5, от 5 до 8, от 8до 10).\n",
        "\n",
        "5. Создайте правила добавления данных для каждой таблицы.\n",
        "\n",
        "6. Добавьте фильмы так, чтобы в каждой таблице было не менее 3 фильмов.\n",
        "\n",
        "7. Добавьте пару фильмов с рейтингом выше 10.\n",
        "\n",
        "8. Сделайте выбор из всех таблиц, в том числе из основной.\n",
        "\n",
        "9. Сделайте выбор только из основной таблицы."
      ],
      "metadata": {
        "id": "gA8fNELp7rAd"
      }
    },
    {
      "cell_type": "code",
      "source": [
        "! pip install pyspark"
      ],
      "metadata": {
        "colab": {
          "base_uri": "https://localhost:8080/"
        },
        "id": "u6bniKFx4n5m",
        "outputId": "15f9483e-c676-48be-d52c-40f95f8bed6e"
      },
      "execution_count": null,
      "outputs": [
        {
          "output_type": "stream",
          "name": "stdout",
          "text": [
            "Collecting pyspark\n",
            "  Downloading pyspark-3.5.0.tar.gz (316.9 MB)\n",
            "\u001b[2K     \u001b[90m━━━━━━━━━━━━━━━━━━━━━━━━━━━━━━━━━━━━━━━━\u001b[0m \u001b[32m316.9/316.9 MB\u001b[0m \u001b[31m2.4 MB/s\u001b[0m eta \u001b[36m0:00:00\u001b[0m\n",
            "\u001b[?25h  Preparing metadata (setup.py) ... \u001b[?25l\u001b[?25hdone\n",
            "Requirement already satisfied: py4j==0.10.9.7 in /usr/local/lib/python3.10/dist-packages (from pyspark) (0.10.9.7)\n",
            "Building wheels for collected packages: pyspark\n",
            "  Building wheel for pyspark (setup.py) ... \u001b[?25l\u001b[?25hdone\n",
            "  Created wheel for pyspark: filename=pyspark-3.5.0-py2.py3-none-any.whl size=317425345 sha256=6c62295e607df2b84c9106a71434f69db4067b9aa330bac06fbc48b2c19228f1\n",
            "  Stored in directory: /root/.cache/pip/wheels/41/4e/10/c2cf2467f71c678cfc8a6b9ac9241e5e44a01940da8fbb17fc\n",
            "Successfully built pyspark\n",
            "Installing collected packages: pyspark\n",
            "Successfully installed pyspark-3.5.0\n"
          ]
        }
      ]
    },
    {
      "cell_type": "code",
      "source": [
        "! pip install MySQL"
      ],
      "metadata": {
        "colab": {
          "base_uri": "https://localhost:8080/"
        },
        "id": "4KjWRLA17KdD",
        "outputId": "742c0f0c-eaf1-4861-a365-23c39b0651e2"
      },
      "execution_count": null,
      "outputs": [
        {
          "output_type": "stream",
          "name": "stdout",
          "text": [
            "Collecting MySQL\n",
            "  Downloading mysql-0.0.3-py3-none-any.whl (1.2 kB)\n",
            "Collecting mysqlclient (from MySQL)\n",
            "  Downloading mysqlclient-2.2.1.tar.gz (89 kB)\n",
            "\u001b[2K     \u001b[90m━━━━━━━━━━━━━━━━━━━━━━━━━━━━━━━━━━━━━━━━\u001b[0m \u001b[32m90.0/90.0 kB\u001b[0m \u001b[31m2.1 MB/s\u001b[0m eta \u001b[36m0:00:00\u001b[0m\n",
            "\u001b[?25h  Installing build dependencies ... \u001b[?25l\u001b[?25hdone\n",
            "  Getting requirements to build wheel ... \u001b[?25l\u001b[?25hdone\n",
            "  Installing backend dependencies ... \u001b[?25l\u001b[?25hdone\n",
            "  Preparing metadata (pyproject.toml) ... \u001b[?25l\u001b[?25hdone\n",
            "Building wheels for collected packages: mysqlclient\n",
            "  Building wheel for mysqlclient (pyproject.toml) ... \u001b[?25l\u001b[?25hdone\n",
            "  Created wheel for mysqlclient: filename=mysqlclient-2.2.1-cp310-cp310-linux_x86_64.whl size=123923 sha256=48d5f0bd3e59b602106d28a6b0e6c3a9bf06320d10f1b568ca5a501c1b0585f7\n",
            "  Stored in directory: /root/.cache/pip/wheels/93/84/49/615c5604001ebe3bb11c45628f22102cf563d6766a43a0e7a1\n",
            "Successfully built mysqlclient\n",
            "Installing collected packages: mysqlclient, MySQL\n",
            "Successfully installed MySQL-0.0.3 mysqlclient-2.2.1\n"
          ]
        }
      ]
    },
    {
      "cell_type": "code",
      "source": [
        "! pip install sqlalchemy"
      ],
      "metadata": {
        "colab": {
          "base_uri": "https://localhost:8080/"
        },
        "id": "5vcwK5lpAf39",
        "outputId": "527d8b9c-9d91-4b4b-f57b-7e96bbcb85a5"
      },
      "execution_count": null,
      "outputs": [
        {
          "output_type": "stream",
          "name": "stdout",
          "text": [
            "Requirement already satisfied: sqlalchemy in /usr/local/lib/python3.10/dist-packages (2.0.23)\n",
            "Requirement already satisfied: typing-extensions>=4.2.0 in /usr/local/lib/python3.10/dist-packages (from sqlalchemy) (4.5.0)\n",
            "Requirement already satisfied: greenlet!=0.4.17 in /usr/local/lib/python3.10/dist-packages (from sqlalchemy) (3.0.2)\n"
          ]
        }
      ]
    },
    {
      "cell_type": "code",
      "execution_count": null,
      "metadata": {
        "id": "Gyrzc7jA20iX"
      },
      "outputs": [],
      "source": [
        "import pyspark, time, platform, sys, os\n",
        "from datetime import datetime\n",
        "from pyspark.sql.session import SparkSession\n",
        "from pyspark.context import SparkContext\n",
        "from pyspark.sql.functions import col, lit, current_timestamp\n",
        "import pandas as pd\n",
        "import matplotlib.pyplot as plt\n",
        "from sqlalchemy import inspect, create_engine, select, column, text as sql_text\n",
        "from pandas.io import sql\n",
        "import warnings\n",
        "warnings.filterwarnings(\"ignore\")"
      ]
    },
    {
      "cell_type": "code",
      "source": [
        "from pyspark.sql.functions import col, lit"
      ],
      "metadata": {
        "id": "LedXHrvTn6n8"
      },
      "execution_count": null,
      "outputs": []
    },
    {
      "cell_type": "code",
      "source": [
        "con = create_engine(\"mysql:///:memory:\", echo=True)\n",
        "os.environ['PYSPARK_PYTHON'] = sys.executable\n",
        "os.environ['PYSPARK_DRIVER_PYTHON'] = sys.executable\n",
        "sc = SparkContext.getOrCreate()\n",
        "spark = SparkSession(sc)\n",
        "columns = [\"id\",\"movies_type\", \"director\", \"title\", \"year_of_issue\", \"length_in_minutes\", \"rate\"]\n",
        "\n",
        "data_main = [(1, 'detective', 'Igor Maslennikov', 'The Adventures of Sherlock Holmes and Doctor Watson: The Hound of the Baskervilles', 1981, 154, 8.6),\n",
        "        (2, 'comedy', 'Billy Wilder', 'Some Like It Hot', 1959, 119, 8.5),\n",
        "        (3, 'drama', 'Frank Darabont','The Green Mile', 1999, 189, 9.1),\n",
        "        (4, 'romantic comedy', 'Richard Curtis', 'Love Actually',  2003, 129, 7.9),\n",
        "        (5, 'comedy', 'Damir Miftakhov','Christmas trees 10', 2023, 90, 4.1),\n",
        "        (6, 'comedy', 'Ron Howard','How the Grinch Stole Christmas', 2000, 104, 6.8),\n",
        "        (7, 'drama', 'Frank Darabont','The Green Mile', 1999, 189, 9.1),\n",
        "        (8, 'cartoon', 'Vladimir Toropchin','Ivan Tsarevich and the Grey Wolf', 2011, 86, 6.7),\n",
        "        (9, 'drama', 'Olivier Nakache','Intouchables', 2011, 112, 8.8)]\n",
        "\n",
        "df = spark.createDataFrame(data_main, columns)\n",
        "df.show()\n",
        "\n",
        "#Добавьте фильмы\n",
        "df2 = spark.createDataFrame([[10, 'comedy', 'Leonid Gaidai', 'Самогонщики', 1962, 19, 8.3]],\n",
        " [\"id\",\"movies_type\", \"director\", \"title\", \"year_of_issue\", \"length_in_minutes\", \"rate\"])\n",
        "df = df.unionByName(df2)\n",
        "df.show()\n",
        "print(\"*\"*20)\n",
        "# Сделайте таблицы для горизонтального партицирования по году выпуска (до 1990, 1990 -2000, 2000- 2010, 2010-2020, после 2020).\n",
        "df_less1990 = df.filter( (col('year_of_issue') < lit(1990)) )\n",
        "df_less1990.show()\n",
        "print(\"*\"*20)\n",
        "df_1990_2000 = df.filter( (col('year_of_issue') >= lit(1990)) & (col('year_of_issue') < lit(2000)))\n",
        "df_1990_2000.show()\n",
        "print(\"*\"*20)\n",
        "df_2000_2010 = df.filter( (col('year_of_issue') >= lit(2000)) & (col('year_of_issue') < lit(2010)))\n",
        "df_2000_2010.show()\n",
        "print(\"*\"*20)\n",
        "df.filter( (col('year_of_issue') >= lit(2010)) & (col('year_of_issue') < lit(2020))).show()\n",
        "print(\"*\"*20)\n",
        "df.filter( (col('year_of_issue') >= lit(2020)) ).show()\n",
        "print(\"*\"*20)\n",
        "\n",
        "# Сделайте таблицы для горизонтального партицирования по длине фильма (до 40 минута, от 40 до 90 минут, от 90 до 130 минут, более 130 минут)\n",
        "df.filter( (col('length_in_minutes') < lit(40)) ).show()\n",
        "print(\"*\"*20)\n",
        "df.filter( (col('length_in_minutes') >= lit(40)) & (col('length_in_minutes') < lit(90))).show()\n",
        "print(\"*\"*20)\n",
        "df.filter( (col('length_in_minutes') >= lit(90)) & (col('length_in_minutes') < lit(130))).show()\n",
        "print(\"*\"*20)\n",
        "df.filter( (col('length_in_minutes') >= lit(130)) ).show()\n",
        "print(\"*\"*20)\n",
        "\n",
        "# Сделайте таблицы для горизонтального партицирования по рейтингу фильма (ниже 5, от 5 до 8, от 8до 10)\n",
        "df.filter( (col('rate') < lit(5)) ).show()\n",
        "print(\"*\"*20)\n",
        "df.filter( (col('rate') >= lit(5)) & (col('rate') < lit(8))).show()\n",
        "print(\"*\"*20)\n",
        "df.filter( (col('rate') >= lit(8)) & (col('rate') < lit(10))).show()\n",
        "print(\"*\"*20)\n",
        "\n",
        "\n",
        "\n",
        "# Сделайте выбор из всех таблиц, в том числе из основной.\n",
        "df.select([\"id\", \"title\", \"year_of_issue\", \"rate\"]).show(5)\n",
        "print(\"*\"*20)\n",
        "(df_2000_2010.select([\"title\", \"year_of_issue\", \"rate\"])).filter((col('length_in_minutes') >= lit(110)) ).show()\n",
        "print(\"*\"*20)\n",
        "\n",
        "\n",
        "t0 = time.time()\n",
        "spark.stop()\n",
        "t1 = time.time()\n",
        "print('finished'), time.strftime('%H:%M:%S', time.gmtime(round(t1-t0)))"
      ],
      "metadata": {
        "colab": {
          "base_uri": "https://localhost:8080/"
        },
        "id": "5iA6fPaT7iaO",
        "outputId": "bdd0a489-4d47-4cd9-90e5-197595c5f74a"
      },
      "execution_count": null,
      "outputs": [
        {
          "output_type": "stream",
          "name": "stdout",
          "text": [
            "+---+---------------+------------------+--------------------+-------------+-----------------+----+\n",
            "| id|    movies_type|          director|               title|year_of_issue|length_in_minutes|rate|\n",
            "+---+---------------+------------------+--------------------+-------------+-----------------+----+\n",
            "|  1|      detective|  Igor Maslennikov|The Adventures of...|         1981|              154| 8.6|\n",
            "|  2|         comedy|      Billy Wilder|    Some Like It Hot|         1959|              119| 8.5|\n",
            "|  3|          drama|    Frank Darabont|      The Green Mile|         1999|              189| 9.1|\n",
            "|  4|romantic comedy|    Richard Curtis|       Love Actually|         2003|              129| 7.9|\n",
            "|  5|         comedy|   Damir Miftakhov|  Christmas trees 10|         2023|               90| 4.1|\n",
            "|  6|         comedy|        Ron Howard|How the Grinch St...|         2000|              104| 6.8|\n",
            "|  7|          drama|    Frank Darabont|      The Green Mile|         1999|              189| 9.1|\n",
            "|  8|        cartoon|Vladimir Toropchin|Ivan Tsarevich an...|         2011|               86| 6.7|\n",
            "|  9|          drama|   Olivier Nakache|        Intouchables|         2011|              112| 8.8|\n",
            "+---+---------------+------------------+--------------------+-------------+-----------------+----+\n",
            "\n",
            "+---+---------------+------------------+--------------------+-------------+-----------------+----+\n",
            "| id|    movies_type|          director|               title|year_of_issue|length_in_minutes|rate|\n",
            "+---+---------------+------------------+--------------------+-------------+-----------------+----+\n",
            "|  1|      detective|  Igor Maslennikov|The Adventures of...|         1981|              154| 8.6|\n",
            "|  2|         comedy|      Billy Wilder|    Some Like It Hot|         1959|              119| 8.5|\n",
            "|  3|          drama|    Frank Darabont|      The Green Mile|         1999|              189| 9.1|\n",
            "|  4|romantic comedy|    Richard Curtis|       Love Actually|         2003|              129| 7.9|\n",
            "|  5|         comedy|   Damir Miftakhov|  Christmas trees 10|         2023|               90| 4.1|\n",
            "|  6|         comedy|        Ron Howard|How the Grinch St...|         2000|              104| 6.8|\n",
            "|  7|          drama|    Frank Darabont|      The Green Mile|         1999|              189| 9.1|\n",
            "|  8|        cartoon|Vladimir Toropchin|Ivan Tsarevich an...|         2011|               86| 6.7|\n",
            "|  9|          drama|   Olivier Nakache|        Intouchables|         2011|              112| 8.8|\n",
            "| 10|         comedy|     Leonid Gaidai|         Самогонщики|         1962|               19| 8.3|\n",
            "+---+---------------+------------------+--------------------+-------------+-----------------+----+\n",
            "\n",
            "********************\n",
            "+---+-----------+----------------+--------------------+-------------+-----------------+----+\n",
            "| id|movies_type|        director|               title|year_of_issue|length_in_minutes|rate|\n",
            "+---+-----------+----------------+--------------------+-------------+-----------------+----+\n",
            "|  1|  detective|Igor Maslennikov|The Adventures of...|         1981|              154| 8.6|\n",
            "|  2|     comedy|    Billy Wilder|    Some Like It Hot|         1959|              119| 8.5|\n",
            "| 10|     comedy|   Leonid Gaidai|         Самогонщики|         1962|               19| 8.3|\n",
            "+---+-----------+----------------+--------------------+-------------+-----------------+----+\n",
            "\n",
            "********************\n",
            "+---+-----------+--------------+--------------+-------------+-----------------+----+\n",
            "| id|movies_type|      director|         title|year_of_issue|length_in_minutes|rate|\n",
            "+---+-----------+--------------+--------------+-------------+-----------------+----+\n",
            "|  3|      drama|Frank Darabont|The Green Mile|         1999|              189| 9.1|\n",
            "|  7|      drama|Frank Darabont|The Green Mile|         1999|              189| 9.1|\n",
            "+---+-----------+--------------+--------------+-------------+-----------------+----+\n",
            "\n",
            "********************\n",
            "+---+---------------+--------------+--------------------+-------------+-----------------+----+\n",
            "| id|    movies_type|      director|               title|year_of_issue|length_in_minutes|rate|\n",
            "+---+---------------+--------------+--------------------+-------------+-----------------+----+\n",
            "|  4|romantic comedy|Richard Curtis|       Love Actually|         2003|              129| 7.9|\n",
            "|  6|         comedy|    Ron Howard|How the Grinch St...|         2000|              104| 6.8|\n",
            "+---+---------------+--------------+--------------------+-------------+-----------------+----+\n",
            "\n",
            "********************\n",
            "+---+-----------+------------------+--------------------+-------------+-----------------+----+\n",
            "| id|movies_type|          director|               title|year_of_issue|length_in_minutes|rate|\n",
            "+---+-----------+------------------+--------------------+-------------+-----------------+----+\n",
            "|  8|    cartoon|Vladimir Toropchin|Ivan Tsarevich an...|         2011|               86| 6.7|\n",
            "|  9|      drama|   Olivier Nakache|        Intouchables|         2011|              112| 8.8|\n",
            "+---+-----------+------------------+--------------------+-------------+-----------------+----+\n",
            "\n",
            "********************\n",
            "+---+-----------+---------------+------------------+-------------+-----------------+----+\n",
            "| id|movies_type|       director|             title|year_of_issue|length_in_minutes|rate|\n",
            "+---+-----------+---------------+------------------+-------------+-----------------+----+\n",
            "|  5|     comedy|Damir Miftakhov|Christmas trees 10|         2023|               90| 4.1|\n",
            "+---+-----------+---------------+------------------+-------------+-----------------+----+\n",
            "\n",
            "********************\n",
            "+---+-----------+-------------+-----------+-------------+-----------------+----+\n",
            "| id|movies_type|     director|      title|year_of_issue|length_in_minutes|rate|\n",
            "+---+-----------+-------------+-----------+-------------+-----------------+----+\n",
            "| 10|     comedy|Leonid Gaidai|Самогонщики|         1962|               19| 8.3|\n",
            "+---+-----------+-------------+-----------+-------------+-----------------+----+\n",
            "\n",
            "********************\n",
            "+---+-----------+------------------+--------------------+-------------+-----------------+----+\n",
            "| id|movies_type|          director|               title|year_of_issue|length_in_minutes|rate|\n",
            "+---+-----------+------------------+--------------------+-------------+-----------------+----+\n",
            "|  8|    cartoon|Vladimir Toropchin|Ivan Tsarevich an...|         2011|               86| 6.7|\n",
            "+---+-----------+------------------+--------------------+-------------+-----------------+----+\n",
            "\n",
            "********************\n",
            "+---+---------------+---------------+--------------------+-------------+-----------------+----+\n",
            "| id|    movies_type|       director|               title|year_of_issue|length_in_minutes|rate|\n",
            "+---+---------------+---------------+--------------------+-------------+-----------------+----+\n",
            "|  2|         comedy|   Billy Wilder|    Some Like It Hot|         1959|              119| 8.5|\n",
            "|  4|romantic comedy| Richard Curtis|       Love Actually|         2003|              129| 7.9|\n",
            "|  5|         comedy|Damir Miftakhov|  Christmas trees 10|         2023|               90| 4.1|\n",
            "|  6|         comedy|     Ron Howard|How the Grinch St...|         2000|              104| 6.8|\n",
            "|  9|          drama|Olivier Nakache|        Intouchables|         2011|              112| 8.8|\n",
            "+---+---------------+---------------+--------------------+-------------+-----------------+----+\n",
            "\n",
            "********************\n",
            "+---+-----------+----------------+--------------------+-------------+-----------------+----+\n",
            "| id|movies_type|        director|               title|year_of_issue|length_in_minutes|rate|\n",
            "+---+-----------+----------------+--------------------+-------------+-----------------+----+\n",
            "|  1|  detective|Igor Maslennikov|The Adventures of...|         1981|              154| 8.6|\n",
            "|  3|      drama|  Frank Darabont|      The Green Mile|         1999|              189| 9.1|\n",
            "|  7|      drama|  Frank Darabont|      The Green Mile|         1999|              189| 9.1|\n",
            "+---+-----------+----------------+--------------------+-------------+-----------------+----+\n",
            "\n",
            "********************\n",
            "+---+-----------+---------------+------------------+-------------+-----------------+----+\n",
            "| id|movies_type|       director|             title|year_of_issue|length_in_minutes|rate|\n",
            "+---+-----------+---------------+------------------+-------------+-----------------+----+\n",
            "|  5|     comedy|Damir Miftakhov|Christmas trees 10|         2023|               90| 4.1|\n",
            "+---+-----------+---------------+------------------+-------------+-----------------+----+\n",
            "\n",
            "********************\n",
            "+---+---------------+------------------+--------------------+-------------+-----------------+----+\n",
            "| id|    movies_type|          director|               title|year_of_issue|length_in_minutes|rate|\n",
            "+---+---------------+------------------+--------------------+-------------+-----------------+----+\n",
            "|  4|romantic comedy|    Richard Curtis|       Love Actually|         2003|              129| 7.9|\n",
            "|  6|         comedy|        Ron Howard|How the Grinch St...|         2000|              104| 6.8|\n",
            "|  8|        cartoon|Vladimir Toropchin|Ivan Tsarevich an...|         2011|               86| 6.7|\n",
            "+---+---------------+------------------+--------------------+-------------+-----------------+----+\n",
            "\n",
            "********************\n",
            "+---+-----------+----------------+--------------------+-------------+-----------------+----+\n",
            "| id|movies_type|        director|               title|year_of_issue|length_in_minutes|rate|\n",
            "+---+-----------+----------------+--------------------+-------------+-----------------+----+\n",
            "|  1|  detective|Igor Maslennikov|The Adventures of...|         1981|              154| 8.6|\n",
            "|  2|     comedy|    Billy Wilder|    Some Like It Hot|         1959|              119| 8.5|\n",
            "|  3|      drama|  Frank Darabont|      The Green Mile|         1999|              189| 9.1|\n",
            "|  7|      drama|  Frank Darabont|      The Green Mile|         1999|              189| 9.1|\n",
            "|  9|      drama| Olivier Nakache|        Intouchables|         2011|              112| 8.8|\n",
            "| 10|     comedy|   Leonid Gaidai|         Самогонщики|         1962|               19| 8.3|\n",
            "+---+-----------+----------------+--------------------+-------------+-----------------+----+\n",
            "\n",
            "********************\n",
            "+---+--------------------+-------------+----+\n",
            "| id|               title|year_of_issue|rate|\n",
            "+---+--------------------+-------------+----+\n",
            "|  1|The Adventures of...|         1981| 8.6|\n",
            "|  2|    Some Like It Hot|         1959| 8.5|\n",
            "|  3|      The Green Mile|         1999| 9.1|\n",
            "|  4|       Love Actually|         2003| 7.9|\n",
            "|  5|  Christmas trees 10|         2023| 4.1|\n",
            "+---+--------------------+-------------+----+\n",
            "only showing top 5 rows\n",
            "\n",
            "********************\n",
            "+-------------+-------------+----+\n",
            "|        title|year_of_issue|rate|\n",
            "+-------------+-------------+----+\n",
            "|Love Actually|         2003| 7.9|\n",
            "+-------------+-------------+----+\n",
            "\n",
            "********************\n",
            "finished\n"
          ]
        },
        {
          "output_type": "execute_result",
          "data": {
            "text/plain": [
              "(None, '00:00:01')"
            ]
          },
          "metadata": {},
          "execution_count": 62
        }
      ]
    }
  ]
}